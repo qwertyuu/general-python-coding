{
 "cells": [
  {
   "cell_type": "code",
   "execution_count": 5,
   "metadata": {},
   "outputs": [],
   "source": [
    "from mistralai import Mistral\n",
    "import os\n",
    "import dotenv\n",
    "\n",
    "dotenv.load_dotenv()\n",
    "\n",
    "api_key = os.environ[\"MISTRAL_API_KEY\"]\n",
    "\n",
    "client = Mistral(api_key=api_key)\n",
    "\n",
    "file_name = \"iga-01.jpg\"\n",
    "\n",
    "uploaded_pdf = client.files.upload(\n",
    "    file={\n",
    "        \"file_name\": file_name,\n",
    "        \"content\": open(f\"documents/{file_name}\", \"rb\"),\n",
    "    },\n",
    "    purpose=\"ocr\"\n",
    ")  "
   ]
  },
  {
   "cell_type": "code",
   "execution_count": 7,
   "metadata": {},
   "outputs": [
    {
     "data": {
      "text/plain": [
       "RetrieveFileOut(id='8233d360-a347-42f1-8597-aeff9ee4f616', object='file', size_bytes=441936, created_at=1741404066, filename='iga-01.jpg', purpose='ocr', sample_type='ocr_input', source='upload', deleted=False, num_lines=None)"
      ]
     },
     "execution_count": 7,
     "metadata": {},
     "output_type": "execute_result"
    }
   ],
   "source": [
    "client.files.retrieve(file_id=uploaded_pdf.id)"
   ]
  },
  {
   "cell_type": "code",
   "execution_count": 8,
   "metadata": {},
   "outputs": [],
   "source": [
    "signed_url = client.files.get_signed_url(file_id=uploaded_pdf.id)"
   ]
  },
  {
   "cell_type": "code",
   "execution_count": 11,
   "metadata": {},
   "outputs": [],
   "source": [
    "ocr_response = client.ocr.process(\n",
    "    model=\"mistral-ocr-latest\",\n",
    "    document={\n",
    "        \"type\": \"image_url\",\n",
    "        \"image_url\": signed_url.url,\n",
    "    }\n",
    ")"
   ]
  },
  {
   "cell_type": "code",
   "execution_count": 14,
   "metadata": {},
   "outputs": [
    {
     "data": {
      "text/plain": [
       "OCRPageObject(index=0, markdown='![img-0.jpeg](img-0.jpeg)', images=[OCRImageObject(id='img-0.jpeg', top_left_x=0, top_left_y=0, bottom_right_x=1500, bottom_right_y=1497, image_base64=None)], dimensions=OCRPageDimensions(dpi=200, height=1500, width=1500))"
      ]
     },
     "execution_count": 14,
     "metadata": {},
     "output_type": "execute_result"
    }
   ],
   "source": [
    "ocr_response.pages[0]"
   ]
  },
  {
   "cell_type": "code",
   "execution_count": 15,
   "metadata": {},
   "outputs": [
    {
     "name": "stdout",
     "output_type": "stream",
     "text": [
      "{\n",
      "    \"pages\": [\n",
      "        {\n",
      "            \"index\": 0,\n",
      "            \"markdown\": \"![img-0.jpeg](img-0.jpeg)\",\n",
      "            \"images\": [\n",
      "                {\n",
      "                    \"id\": \"img-0.jpeg\",\n",
      "                    \"top_left_x\": 0,\n",
      "                    \"top_left_y\": 0,\n",
      "                    \"bottom_right_x\": 1500,\n",
      "                    \"bottom_right_y\": 1497,\n",
      "                    \"image_base64\": null\n",
      "                }\n",
      "            ],\n",
      "            \"dimensions\": {\n",
      "                \"dpi\": 200,\n",
      "                \"height\": 1500,\n",
      "                \"width\": 1500\n",
      "            }\n",
      "        }\n",
      "    ],\n",
      "    \"model\": \"mistral-ocr-2503-completion\",\n",
      "    \"usage_info\": {\n",
      "        \"pages_processed\": 1,\n",
      "        \"doc_size_bytes\": 441936\n",
      "    }\n",
      "}\n"
     ]
    },
    {
     "name": "stderr",
     "output_type": "stream",
     "text": [
      "C:\\Users\\USER\\AppData\\Local\\Temp\\ipykernel_46984\\3506239303.py:14: PydanticDeprecatedSince20: The `json` method is deprecated; use `model_dump_json` instead. Deprecated in Pydantic V2.0 to be removed in V3.0. See Pydantic V2 Migration Guide at https://errors.pydantic.dev/2.10/migration/\n",
      "  response_dict = json.loads(image_response.json())\n"
     ]
    }
   ],
   "source": [
    "import base64\n",
    "import json\n",
    "from pathlib import Path\n",
    "\n",
    "from mistralai import ImageURLChunk\n",
    "\n",
    "image_file = Path(\"documents/iga-01.jpg\")\n",
    "assert image_file.is_file()\n",
    "encoded = base64.b64encode(image_file.read_bytes()).decode()\n",
    "base64_data_url = f\"data:image/jpeg;base64,{encoded}\"\n",
    "\n",
    "image_response = client.ocr.process(document=ImageURLChunk(image_url=base64_data_url), model=\"mistral-ocr-latest\")\n",
    "\n",
    "response_dict = json.loads(image_response.json())\n",
    "json_string = json.dumps(response_dict, indent=4)\n",
    "print(json_string)"
   ]
  },
  {
   "cell_type": "code",
   "execution_count": 24,
   "metadata": {},
   "outputs": [],
   "source": [
    "import os\n",
    "import requests\n",
    "from bs4 import BeautifulSoup\n",
    "import re\n",
    "from urllib.parse import urljoin\n",
    "\n",
    "def download_iga_images(html_path=None, html_content=None, output_folder=\"iga_images\"):\n",
    "    \"\"\"\n",
    "    Extrait et télécharge les images du circulaire IGA.\n",
    "    \n",
    "    Args:\n",
    "        html_path (str): Chemin vers le fichier HTML (optionnel)\n",
    "        html_content (str): Contenu HTML (optionnel, alternativement à html_path)\n",
    "        output_folder (str): Dossier de destination pour les images téléchargées\n",
    "    \"\"\"\n",
    "    # Vérification des arguments\n",
    "    if html_path is None and html_content is None:\n",
    "        print(\"Erreur: Veuillez fournir soit le chemin du fichier HTML, soit son contenu.\")\n",
    "        return\n",
    "    \n",
    "    # Lecture du contenu HTML depuis le fichier si spécifié\n",
    "    if html_path is not None:\n",
    "        try:\n",
    "            with open(html_path, 'r', encoding='utf-8') as f:\n",
    "                html_content = f.read()\n",
    "        except Exception as e:\n",
    "            print(f\"Erreur lors de la lecture du fichier HTML: {str(e)}\")\n",
    "            return\n",
    "    \n",
    "    # Création du dossier de sortie s'il n'existe pas\n",
    "    if not os.path.exists(output_folder):\n",
    "        os.makedirs(output_folder)\n",
    "        print(f\"Dossier '{output_folder}' créé.\")\n",
    "    \n",
    "    # Analyse du HTML avec BeautifulSoup\n",
    "    soup = BeautifulSoup(html_content, 'html.parser')\n",
    "    \n",
    "    # Trouver toutes les balises d'image du circulaire\n",
    "    # Dans le HTML fourni, les images du circulaire ont un pattern spécifique\n",
    "    images = soup.find_all('img', src=re.compile(r'./circulaire/iga-\\d+\\.jpg'))\n",
    "    \n",
    "    if not images:\n",
    "        print(\"Aucune image de circulaire trouvée dans le HTML.\")\n",
    "        return\n",
    "    \n",
    "    # Extraction de la base URL pour générer les URL complètes\n",
    "    base_url = \"https://www.circulaires.com/supermarche-iga/\"\n",
    "    \n",
    "    # Téléchargement de chaque image\n",
    "    downloaded_count = 0\n",
    "    for idx, img in enumerate(images, start=1):\n",
    "        # Récupération de l'URL relative de l'image\n",
    "        img_url_relative = img.get('src')\n",
    "        \n",
    "        # Nettoyage de l'URL relative (suppression des paramètres éventuels)\n",
    "        img_url_relative = img_url_relative.split('?')[0]\n",
    "        \n",
    "        # Conversion de l'URL relative en URL absolue\n",
    "        img_url = urljoin(base_url, img_url_relative)\n",
    "\n",
    "        print(img_url)\n",
    "        \n",
    "        # Extraction du nom de fichier de l'image\n",
    "        img_filename = os.path.basename(img_url_relative)\n",
    "        img_path = os.path.join(output_folder, img_filename)\n",
    "        \n",
    "        try:\n",
    "            # Téléchargement de l'image\n",
    "            response = requests.get(img_url, stream=True)\n",
    "            response.raise_for_status()\n",
    "            \n",
    "            # Sauvegarde de l'image sur le disque\n",
    "            with open(img_path, 'wb') as file:\n",
    "                for chunk in response.iter_content(chunk_size=8192):\n",
    "                    file.write(chunk)\n",
    "            \n",
    "            print(f\"[{idx}/{len(images)}] Image téléchargée: {img_filename}\")\n",
    "            downloaded_count += 1\n",
    "        \n",
    "        except Exception as e:\n",
    "            print(f\"Erreur lors du téléchargement de {img_filename}: {str(e)}\")\n",
    "    \n",
    "    print(f\"\\nTéléchargement terminé. {downloaded_count}/{len(images)} images sauvegardées dans '{output_folder}'.\")\n",
    "\n"
   ]
  },
  {
   "cell_type": "code",
   "execution_count": 25,
   "metadata": {},
   "outputs": [
    {
     "name": "stdout",
     "output_type": "stream",
     "text": [
      "https://www.circulaires.com/supermarche-iga/circulaire/iga-01.jpg\n",
      "[1/26] Image téléchargée: iga-01.jpg\n",
      "https://www.circulaires.com/supermarche-iga/circulaire/iga-02.jpg\n",
      "[2/26] Image téléchargée: iga-02.jpg\n",
      "https://www.circulaires.com/supermarche-iga/circulaire/iga-03.jpg\n",
      "[3/26] Image téléchargée: iga-03.jpg\n",
      "https://www.circulaires.com/supermarche-iga/circulaire/iga-04.jpg\n",
      "[4/26] Image téléchargée: iga-04.jpg\n",
      "https://www.circulaires.com/supermarche-iga/circulaire/iga-05.jpg\n",
      "[5/26] Image téléchargée: iga-05.jpg\n",
      "https://www.circulaires.com/supermarche-iga/circulaire/iga-06.jpg\n",
      "[6/26] Image téléchargée: iga-06.jpg\n",
      "https://www.circulaires.com/supermarche-iga/circulaire/iga-07.jpg\n",
      "[7/26] Image téléchargée: iga-07.jpg\n",
      "https://www.circulaires.com/supermarche-iga/circulaire/iga-08.jpg\n",
      "[8/26] Image téléchargée: iga-08.jpg\n",
      "https://www.circulaires.com/supermarche-iga/circulaire/iga-09.jpg\n",
      "[9/26] Image téléchargée: iga-09.jpg\n",
      "https://www.circulaires.com/supermarche-iga/circulaire/iga-10.jpg\n",
      "[10/26] Image téléchargée: iga-10.jpg\n",
      "https://www.circulaires.com/supermarche-iga/circulaire/iga-11.jpg\n",
      "[11/26] Image téléchargée: iga-11.jpg\n",
      "https://www.circulaires.com/supermarche-iga/circulaire/iga-12.jpg\n",
      "[12/26] Image téléchargée: iga-12.jpg\n",
      "https://www.circulaires.com/supermarche-iga/circulaire/iga-13.jpg\n",
      "[13/26] Image téléchargée: iga-13.jpg\n",
      "https://www.circulaires.com/supermarche-iga/circulaire/iga-14.jpg\n",
      "[14/26] Image téléchargée: iga-14.jpg\n",
      "https://www.circulaires.com/supermarche-iga/circulaire/iga-15.jpg\n",
      "[15/26] Image téléchargée: iga-15.jpg\n",
      "https://www.circulaires.com/supermarche-iga/circulaire/iga-16.jpg\n",
      "[16/26] Image téléchargée: iga-16.jpg\n",
      "https://www.circulaires.com/supermarche-iga/circulaire/iga-17.jpg\n",
      "[17/26] Image téléchargée: iga-17.jpg\n",
      "https://www.circulaires.com/supermarche-iga/circulaire/iga-18.jpg\n",
      "[18/26] Image téléchargée: iga-18.jpg\n",
      "https://www.circulaires.com/supermarche-iga/circulaire/iga-19.jpg\n",
      "[19/26] Image téléchargée: iga-19.jpg\n",
      "https://www.circulaires.com/supermarche-iga/circulaire/iga-22.jpg\n",
      "[20/26] Image téléchargée: iga-22.jpg\n",
      "https://www.circulaires.com/supermarche-iga/circulaire/iga-23.jpg\n",
      "[21/26] Image téléchargée: iga-23.jpg\n",
      "https://www.circulaires.com/supermarche-iga/circulaire/iga-24.jpg\n",
      "[22/26] Image téléchargée: iga-24.jpg\n",
      "https://www.circulaires.com/supermarche-iga/circulaire/iga-25.jpg\n",
      "[23/26] Image téléchargée: iga-25.jpg\n",
      "https://www.circulaires.com/supermarche-iga/circulaire/iga-26.jpg\n",
      "[24/26] Image téléchargée: iga-26.jpg\n",
      "https://www.circulaires.com/supermarche-iga/circulaire/iga-27.jpg\n",
      "[25/26] Image téléchargée: iga-27.jpg\n",
      "https://www.circulaires.com/supermarche-iga/circulaire/iga-28.jpg\n",
      "[26/26] Image téléchargée: iga-28.jpg\n",
      "\n",
      "Téléchargement terminé. 26/26 images sauvegardées dans 'iga_images'.\n"
     ]
    }
   ],
   "source": [
    "\n",
    "download_iga_images(html_path=\"page.html\")"
   ]
  }
 ],
 "metadata": {
  "kernelspec": {
   "display_name": "venv",
   "language": "python",
   "name": "python3"
  },
  "language_info": {
   "codemirror_mode": {
    "name": "ipython",
    "version": 3
   },
   "file_extension": ".py",
   "mimetype": "text/x-python",
   "name": "python",
   "nbconvert_exporter": "python",
   "pygments_lexer": "ipython3",
   "version": "3.9.11"
  }
 },
 "nbformat": 4,
 "nbformat_minor": 2
}
